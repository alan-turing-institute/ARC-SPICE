{
 "cells": [
  {
   "cell_type": "markdown",
   "metadata": {},
   "source": [
    "# Generating OCR Synthetic Data"
   ]
  },
  {
   "cell_type": "markdown",
   "metadata": {},
   "source": [
    "We'd like to some synthetic OCR data. Plan is to:\n",
    "\n",
    "1. Load a relevant text based dataset.\n",
    "2. Generate the OCR data.\n",
    "3. Test this on an OCR model."
   ]
  },
  {
   "cell_type": "code",
   "execution_count": 5,
   "metadata": {},
   "outputs": [],
   "source": [
    "import trdg\n",
    "import datasets\n",
    "from transformers import pipeline\n",
    "import torch"
   ]
  },
  {
   "cell_type": "code",
   "execution_count": 29,
   "metadata": {},
   "outputs": [
    {
     "name": "stderr",
     "output_type": "stream",
     "text": [
      "/Users/edable-heath/Documents/ARC-SPICE/.venv-3.10/lib/python3.10/site-packages/transformers/tokenization_utils_base.py:1601: FutureWarning: `clean_up_tokenization_spaces` was not set. It will be set to `True` by default. This behavior will be depracted in transformers v4.45, and will be then set to `False` by default. For more details check this issue: https://github.com/huggingface/transformers/issues/31884\n",
      "  warnings.warn(\n",
      "Hardware accelerator e.g. GPU is available in the environment, but no `device` argument is passed to the `Pipeline` object. Model will be on CPU.\n"
     ]
    }
   ],
   "source": [
    "# device = torch.device(\"mps\" if torch.backends.mps.is_available() else \"cpu\")\n",
    "pipe = pipeline(\n",
    "    \"translation\", model=\"ybanas/autotrain-fr-en-translate-51410121895\", max_length=1200\n",
    ")"
   ]
  },
  {
   "cell_type": "code",
   "execution_count": 15,
   "metadata": {},
   "outputs": [
    {
     "data": {
      "application/vnd.jupyter.widget-view+json": {
       "model_id": "e878a93c27154f788fb7e0de7f824556",
       "version_major": 2,
       "version_minor": 0
      },
      "text/plain": [
       "multi_eurlex.tar.gz:   0%|          | 0.00/2.77G [00:00<?, ?B/s]"
      ]
     },
     "metadata": {},
     "output_type": "display_data"
    },
    {
     "data": {
      "application/vnd.jupyter.widget-view+json": {
       "model_id": "645344b6f0af489db8ce21eef6d56d29",
       "version_major": 2,
       "version_minor": 0
      },
      "text/plain": [
       "Generating train split:   0%|          | 0/55000 [00:00<?, ? examples/s]"
      ]
     },
     "metadata": {},
     "output_type": "display_data"
    },
    {
     "data": {
      "application/vnd.jupyter.widget-view+json": {
       "model_id": "2b9593f9a654457790b4948fb6b2d94a",
       "version_major": 2,
       "version_minor": 0
      },
      "text/plain": [
       "Generating test split:   0%|          | 0/5000 [00:00<?, ? examples/s]"
      ]
     },
     "metadata": {},
     "output_type": "display_data"
    },
    {
     "data": {
      "application/vnd.jupyter.widget-view+json": {
       "model_id": "2f99511ab9b44c2ca1405d681f71611e",
       "version_major": 2,
       "version_minor": 0
      },
      "text/plain": [
       "Generating validation split:   0%|          | 0/5000 [00:00<?, ? examples/s]"
      ]
     },
     "metadata": {},
     "output_type": "display_data"
    }
   ],
   "source": [
    "dataset = datasets.load_dataset(\n",
    "    \"multi_eurlex\",\n",
    "    \"all_languages\",\n",
    "    label_level=\"level_3\",\n",
    "    trust_remote_code=True,\n",
    ")"
   ]
  },
  {
   "cell_type": "code",
   "execution_count": 20,
   "metadata": {},
   "outputs": [],
   "source": [
    "task = dataset[\"train\"][0][\"text\"][\"fr\"]\n",
    "target = dataset[\"train\"][0][\"text\"][\"en\"]"
   ]
  },
  {
   "cell_type": "code",
   "execution_count": 30,
   "metadata": {},
   "outputs": [
    {
     "data": {
      "text/plain": [
       "[{'translation_text': 'COMMISSION Decision of 6 March 2006 establishing the classification of fire-reaction characteristics of certain construction products for the use of wood floors and masonry walls as a result of the Decision of the Commission of 21 December 1988 concerning the implementation of the Decision of the Council of 21 December 1988 on the classification of fire-reaction characteristics of construction (1), and especially the Regulation 20(2), which establishes a system of classifications for each of the essential requirements of the Decision of the Commission of 21 December 1988, which establishes a system of classifications for certain products and/or materials for the purpose of making a classification of fire-reaction characteristics of construction products, which is referred to in the Appendix.'}]"
      ]
     },
     "execution_count": 30,
     "metadata": {},
     "output_type": "execute_result"
    }
   ],
   "source": [
    "pipe(task)"
   ]
  },
  {
   "cell_type": "code",
   "execution_count": 33,
   "metadata": {},
   "outputs": [],
   "source": [
    "def split_inputs(text, split_key):\n",
    "    split_rows = text.split(split_key)\n",
    "    recovered_splits = [split + split_key for split in split_rows]\n",
    "    return recovered_splits"
   ]
  },
  {
   "cell_type": "code",
   "execution_count": 35,
   "metadata": {},
   "outputs": [],
   "source": [
    "tasks = split_inputs(task, \".\")"
   ]
  },
  {
   "cell_type": "code",
   "execution_count": 39,
   "metadata": {},
   "outputs": [],
   "source": [
    "arr = [pipe(t) for t in tasks]"
   ]
  },
  {
   "cell_type": "code",
   "execution_count": 40,
   "metadata": {},
   "outputs": [
    {
     "data": {
      "text/plain": [
       "[[{'translation_text': 'COMMISSION Decision of 6 March 2006 establishing the classification of fire-reaction characteristics of certain construction products for wood floors and mass-wood roofing [notified under the number C(2006) 655] (Text of Relevance for the EU) (2006/213/CE) THE COMMISSION OF THE COMPETITIVE UNIONS, having read the Treaty and taking note that for each essential requirement, the classification of products may be established in the interpretative document.'}],\n",
       " [{'translation_text': 'The following documents were published as a \"communication of the Commission on the interpretative documents of the GATT directive (2)\".'}],\n",
       " [{'translation_text': '(2) For the essential requirement for fire safety, the Interpretation Document 2 outlines a list of interdependent measures that together establish the appropriate fire safety strategy for each member state.'}],\n",
       " [{'translation_text': '(3) One of the measures identified in the interpretation document 2 is to limit the appearance and spread of fire and fume in a specific area by limiting the possible contribution of construction products to the full development of an ignition.'}],\n",
       " [{'translation_text': '(4) This limitation can only be expressed in terms of different classes of fire reaction characteristics for products under the conditions of their final use.'}],\n",
       " [{'translation_text': \"(5) In the context of a harmonised solution, the Commission's 2000/147/CE decision of 8 February 2000 establishing a system of classifications for fire-reaction characteristics of construction products (3) has established a system of classes.\"}],\n",
       " [{'translation_text': '(6) For wood floors and masonry and roofing coverings in massive wood, it is necessary to use the classification established by 2000/147/EC.'}],\n",
       " [{'translation_text': '(7) For many products and/or materials, fire response characteristics as defined in the 2000/147/EC Classification are well established and well known to the authorities of the Member States in fire safety.'}],\n",
       " [{'translation_text': 'They are now not required to undergo additional trials in this regard.'}],\n",
       " [{'translation_text': '(8) The measures outlined in this decision are in accordance with the Permanent Construction Committee, which has issued the following Decision: Article first Construction products and/or materials that meet all of the safety requirements without requiring additional testing are listed in the annex.'}],\n",
       " [{'translation_text': 'Regulations and regulations apply to the specific classification of fire response characteristics established by 2000/147/EC are provided in the annex of this decision.'}],\n",
       " [{'translation_text': 'Consumers should consider the products as being processed and packaged according to their final use conditions.'}],\n",
       " [{'translation_text': 'Chapter 4 Member States are responsible for this decision.'}],\n",
       " [{'translation_text': 'Established in Brussels, March 6, 2006.'}]]"
      ]
     },
     "execution_count": 40,
     "metadata": {},
     "output_type": "execute_result"
    }
   ],
   "source": [
    "arr"
   ]
  },
  {
   "cell_type": "code",
   "execution_count": 51,
   "metadata": {},
   "outputs": [],
   "source": [
    "output = [thing[0][\"translation_text\"] for thing in arr]"
   ]
  },
  {
   "cell_type": "code",
   "execution_count": 52,
   "metadata": {},
   "outputs": [],
   "source": [
    "output = \"\\n\".join(output)"
   ]
  },
  {
   "cell_type": "code",
   "execution_count": 53,
   "metadata": {},
   "outputs": [
    {
     "name": "stdout",
     "output_type": "stream",
     "text": [
      "COMMISSION Decision of 6 March 2006 establishing the classification of fire-reaction characteristics of certain construction products for wood floors and mass-wood roofing [notified under the number C(2006) 655] (Text of Relevance for the EU) (2006/213/CE) THE COMMISSION OF THE COMPETITIVE UNIONS, having read the Treaty and taking note that for each essential requirement, the classification of products may be established in the interpretative document.\n",
      "The following documents were published as a \"communication of the Commission on the interpretative documents of the GATT directive (2)\".\n",
      "(2) For the essential requirement for fire safety, the Interpretation Document 2 outlines a list of interdependent measures that together establish the appropriate fire safety strategy for each member state.\n",
      "(3) One of the measures identified in the interpretation document 2 is to limit the appearance and spread of fire and fume in a specific area by limiting the possible contribution of construction products to the full development of an ignition.\n",
      "(4) This limitation can only be expressed in terms of different classes of fire reaction characteristics for products under the conditions of their final use.\n",
      "(5) In the context of a harmonised solution, the Commission's 2000/147/CE decision of 8 February 2000 establishing a system of classifications for fire-reaction characteristics of construction products (3) has established a system of classes.\n",
      "(6) For wood floors and masonry and roofing coverings in massive wood, it is necessary to use the classification established by 2000/147/EC.\n",
      "(7) For many products and/or materials, fire response characteristics as defined in the 2000/147/EC Classification are well established and well known to the authorities of the Member States in fire safety.\n",
      "They are now not required to undergo additional trials in this regard.\n",
      "(8) The measures outlined in this decision are in accordance with the Permanent Construction Committee, which has issued the following Decision: Article first Construction products and/or materials that meet all of the safety requirements without requiring additional testing are listed in the annex.\n",
      "Regulations and regulations apply to the specific classification of fire response characteristics established by 2000/147/EC are provided in the annex of this decision.\n",
      "Consumers should consider the products as being processed and packaged according to their final use conditions.\n",
      "Chapter 4 Member States are responsible for this decision.\n",
      "Established in Brussels, March 6, 2006.\n"
     ]
    }
   ],
   "source": [
    "print(output)"
   ]
  },
  {
   "cell_type": "code",
   "execution_count": 54,
   "metadata": {},
   "outputs": [
    {
     "data": {
      "text/plain": [
       "'COMMISSION DECISION\\nof 6 March 2006\\nestablishing the classes of reaction-to-fire performance for certain construction products as regards wood flooring and solid wood panelling and cladding\\n(notified under document number C(2006) 655)\\n(Text with EEA relevance)\\n(2006/213/EC)\\nTHE COMMISSION OF THE EUROPEAN COMMUNITIES,\\nHaving regard to the Treaty establishing the European Community,\\nHaving regard to Directive 89/106/EEC of 21 December 1988, on the approximation of laws, regulations and administrative provisions of the Member States relating to construction products (1), and in particular Article 20(2) thereof,\\nWhereas:\\n(1)\\nDirective 89/106/EEC envisages that in order to take account of different levels of protection for construction works at national, regional or local level, it may be necessary to establish in the interpretative documents classes corresponding to the performance of products in respect of each essential requirement. Those documents have been published as the ‘Communication of the Commission with regard to the interpretative documents of Directive 89/106/EEC’ (2).\\n(2)\\nWith respect to the essential requirement of safety in the event of fire, interpretative document No 2 lists a number of interrelated measures which together define the fire safety strategy to be variously developed in the Member States.\\n(3)\\nInterpretative document No 2 identifies one of those measures as the limitation of the generation and spread of fire and smoke within a given area by limiting the potential of construction products to contribute to the full development of a fire.\\n(4)\\nThe level of that limitation may be expressed only in terms of the different levels of reaction-to-fire performance of the products in their end-use application;\\n(5)\\nBy way of harmonised solution, a system of classes was adopted in Commission Decision 2000/147/EC of 8 February 2000 implementing Council Directive 89/106/EEC as regards the classification of the reaction-to-fire performance of construction products (3).\\n(6)\\nIn the case of wood flooring and solid wood panelling and cladding it is necessary to use the classification established in Decision 2000/147/EC.\\n(7)\\nThe reaction-to-fire performance of many construction products and/or materials, within the classification provided for in Decision 2000/147/EC, is well established and sufficiently well known to fire regulators in Member States that they do not require testing for this particular performance characteristic.\\n(8)\\nThe measures provided for in this Decision are in accordance with the opinion of the Standing Committee on Construction,\\nHAS ADOPTED THIS DECISION:\\nArticle 1\\nThe construction products and/or materials which satisfy all the requirements of the performance characteristic ‘reaction to fire’ without need for further testing are set out in the Annex.\\nArticle 2\\nThe specific classes to be applied to different construction products and/or materials, within the reaction-to-fire classification adopted in Decision 2000/147/EC, are set out in the Annex to this Decision.\\nArticle 3\\nProducts shall be considered in relation to their end-use application, where relevant.\\nArticle 4\\nThis Decision is addressed to the Member States.\\nDone at Brussels, 6 March 2006.'"
      ]
     },
     "execution_count": 54,
     "metadata": {},
     "output_type": "execute_result"
    }
   ],
   "source": [
    "target"
   ]
  },
  {
   "cell_type": "code",
   "execution_count": null,
   "metadata": {},
   "outputs": [],
   "source": []
  }
 ],
 "metadata": {
  "kernelspec": {
   "display_name": ".venv-3.10",
   "language": "python",
   "name": "python3"
  },
  "language_info": {
   "codemirror_mode": {
    "name": "ipython",
    "version": 3
   },
   "file_extension": ".py",
   "mimetype": "text/x-python",
   "name": "python",
   "nbconvert_exporter": "python",
   "pygments_lexer": "ipython3",
   "version": "3.10.4"
  }
 },
 "nbformat": 4,
 "nbformat_minor": 2
}
