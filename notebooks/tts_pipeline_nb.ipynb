{
 "cells": [
  {
   "cell_type": "markdown",
   "metadata": {},
   "source": [
    "# First pass at developing the TTS pipeline\n",
    "\n",
    "Using off the shelf hugging-face models to build the transcription -> translation -> summarisation pipeline."
   ]
  },
  {
   "cell_type": "markdown",
   "metadata": {},
   "source": [
    "### Lets start with a transcription model\n",
    "\n",
    "Looks like the `openai/whisper-small` model would be appropriate, it does French to French transcription."
   ]
  },
  {
   "cell_type": "code",
   "execution_count": 1,
   "metadata": {},
   "outputs": [],
   "source": [
    "from transformers import WhisperProcessor, WhisperForConditionalGeneration\n",
    "from datasets import Audio, load_dataset"
   ]
  },
  {
   "cell_type": "code",
   "execution_count": 2,
   "metadata": {},
   "outputs": [],
   "source": [
    "# Loade model and processor\n",
    "transcription_processor = WhisperProcessor.from_pretrained(\"openai/whisper-small\")\n",
    "transcription_model = WhisperForConditionalGeneration.from_pretrained(\n",
    "    \"openai/whisper-small\"\n",
    ")\n",
    "forced_decoder_ids = transcription_processor.get_decoder_prompt_ids(\n",
    "    language=\"french\", task=\"transcribe\"\n",
    ")"
   ]
  },
  {
   "cell_type": "code",
   "execution_count": 3,
   "metadata": {},
   "outputs": [
    {
     "data": {
      "application/vnd.jupyter.widget-view+json": {
       "model_id": "0244399d028f484dbb340dcc17a15787",
       "version_major": 2,
       "version_minor": 0
      },
      "text/plain": [
       "Resolving data files:   0%|          | 0/48 [00:00<?, ?it/s]"
      ]
     },
     "metadata": {},
     "output_type": "display_data"
    },
    {
     "data": {
      "application/vnd.jupyter.widget-view+json": {
       "model_id": "6b647ec6f4c243e7bba4ee1430d88086",
       "version_major": 2,
       "version_minor": 0
      },
      "text/plain": [
       "Resolving data files:   0%|          | 0/34 [00:00<?, ?it/s]"
      ]
     },
     "metadata": {},
     "output_type": "display_data"
    }
   ],
   "source": [
    "# load streaming dataset and read first audio sample\n",
    "ds = load_dataset(\n",
    "    \"facebook/multilingual_librispeech\", \"french\", split=\"test\", streaming=True\n",
    ")"
   ]
  },
  {
   "cell_type": "code",
   "execution_count": 4,
   "metadata": {},
   "outputs": [
    {
     "data": {
      "text/plain": [
       "{'audio': {'path': '1406_1028_000000.opus',\n",
       "  'array': array([ 3.16312944e-04,  2.51584337e-04,  1.96699897e-04, ...,\n",
       "          2.33122555e-04, -8.31385187e-05, -1.13553528e-04]),\n",
       "  'sampling_rate': 16000},\n",
       " 'original_path': 'http://www.archive.org/download/les1001nuits_tome1_0711_librivox/1001nuits1_010_galland_64kb.mp3',\n",
       " 'begin_time': 210.62,\n",
       " 'end_time': 227.11,\n",
       " 'transcript': \"pendant le second siècle je fis serment d'ouvrir tous les trésors de la terre à quiconque me mettrait en liberté mais je ne fus pas plus heureux dans le troisième je promis de faire puissant monarque mon libérateur d'être toujours près de lui en esprit\",\n",
       " 'audio_duration': 16.49000000000001,\n",
       " 'speaker_id': '1406',\n",
       " 'chapter_id': '1028',\n",
       " 'file': '1406_1028_000000.opus',\n",
       " 'id': '1406_1028_000000'}"
      ]
     },
     "execution_count": 4,
     "metadata": {},
     "output_type": "execute_result"
    }
   ],
   "source": [
    "next(iter(ds))"
   ]
  },
  {
   "cell_type": "code",
   "execution_count": 7,
   "metadata": {},
   "outputs": [],
   "source": [
    "new_ds = ds.cast_column(\"audio\", Audio(sampling_rate=16_000))\n",
    "input_speech = next(iter(new_ds))[\"audio\"]\n",
    "input_features = transcription_processor(\n",
    "    input_speech[\"array\"],\n",
    "    sampling_rate=input_speech[\"sampling_rate\"],\n",
    "    return_tensors=\"pt\",\n",
    ").input_features"
   ]
  },
  {
   "cell_type": "code",
   "execution_count": 8,
   "metadata": {},
   "outputs": [],
   "source": [
    "import matplotlib.pyplot as plt"
   ]
  },
  {
   "cell_type": "code",
   "execution_count": 11,
   "metadata": {},
   "outputs": [
    {
     "data": {
      "text/plain": [
       "[<matplotlib.lines.Line2D at 0x35d5b7d50>]"
      ]
     },
     "execution_count": 11,
     "metadata": {},
     "output_type": "execute_result"
    },
    {
     "data": {
      "image/png": "[encoded data removed]",
      "text/plain": [
       "<Figure size 640x480 with 1 Axes>"
      ]
     },
     "metadata": {},
     "output_type": "display_data"
    }
   ],
   "source": [
    "plt.plot(input_speech[\"array\"])"
   ]
  },
  {
   "cell_type": "code",
   "execution_count": 14,
   "metadata": {},
   "outputs": [],
   "source": [
    "# generate token ids\n",
    "predicted_ids = transcription_model.generate(\n",
    "    input_features, forced_decoder_ids=forced_decoder_ids\n",
    ")"
   ]
  },
  {
   "cell_type": "code",
   "execution_count": 15,
   "metadata": {},
   "outputs": [
    {
     "data": {
      "text/plain": [
       "[\"<|startoftranscript|><|fr|><|transcribe|><|notimestamps|> Pendant le second siècle, je fis serment d'ouvrir tous les trésors de la terre, à qui compte-me mettre en liberté. Mais je ne fus pas plus heureux. Dans le troisième, je promis de faire puissant mon arc, mon libérateur, d'être toujours près de lui en esprit.\"]"
      ]
     },
     "execution_count": 15,
     "metadata": {},
     "output_type": "execute_result"
    }
   ],
   "source": [
    "# decode token ids to text\n",
    "transcription = transcription_processor.batch_decode(predicted_ids)\n",
    "transcription"
   ]
  },
  {
   "cell_type": "code",
   "execution_count": 16,
   "metadata": {},
   "outputs": [
    {
     "data": {
      "text/plain": [
       "[\" Pendant le second siècle, je fis serment d'ouvrir tous les trésors de la terre, à qui compte-me mettre en liberté. Mais je ne fus pas plus heureux. Dans le troisième, je promis de faire puissant mon arc, mon libérateur, d'être toujours près de lui en esprit.\"]"
      ]
     },
     "execution_count": 16,
     "metadata": {},
     "output_type": "execute_result"
    }
   ],
   "source": [
    "# transcription without special characters\n",
    "transcription = transcription_processor.batch_decode(\n",
    "    predicted_ids, skip_special_tokens=True\n",
    ")\n",
    "transcription"
   ]
  },
  {
   "cell_type": "markdown",
   "metadata": {},
   "source": [
    "### And now onto translation\n",
    "\n",
    "Should be relatively straightforward"
   ]
  },
  {
   "cell_type": "code",
   "execution_count": 1,
   "metadata": {},
   "outputs": [],
   "source": [
    "from transformers import MBartForConditionalGeneration, MBart50TokenizerFast"
   ]
  },
  {
   "cell_type": "code",
   "execution_count": 17,
   "metadata": {},
   "outputs": [
    {
     "name": "stderr",
     "output_type": "stream",
     "text": [
      "/Users/edable-heath/Documents/ARC-SPICE/.venv/lib/python3.11/site-packages/transformers/tokenization_utils_base.py:1601: FutureWarning: `clean_up_tokenization_spaces` was not set. It will be set to `True` by default. This behavior will be depracted in transformers v4.45, and will be then set to `False` by default. For more details check this issue: https://github.com/huggingface/transformers/issues/31884\n",
      "  warnings.warn(\n"
     ]
    }
   ],
   "source": [
    "# load model and tokenizer\n",
    "translation_model = MBartForConditionalGeneration.from_pretrained(\n",
    "    \"facebook/mbart-large-50-many-to-many-mmt\"\n",
    ")\n",
    "translation_tokenizer = MBart50TokenizerFast.from_pretrained(\n",
    "    \"facebook/mbart-large-50-many-to-many-mmt\"\n",
    ")"
   ]
  },
  {
   "cell_type": "code",
   "execution_count": 27,
   "metadata": {},
   "outputs": [],
   "source": [
    "# translate from french to english\n",
    "translation_tokenizer.src_lang = \"fr_XX\"\n",
    "encode_fr = translation_tokenizer(transcription, return_tensors=\"pt\")\n",
    "generated_tokens = translation_model.generate(\n",
    "    **encode_fr, forced_bos_token_id=translation_tokenizer.lang_code_to_id[\"en_XX\"]\n",
    ")"
   ]
  },
  {
   "cell_type": "code",
   "execution_count": 28,
   "metadata": {},
   "outputs": [
    {
     "data": {
      "text/plain": [
       "['In the second century, I swore to open all the treasures of the earth, to whom I was about to release, but I was no happier. In the third, I promised to make my bow, my liberator, powerful, to be always close to him in mind.']"
      ]
     },
     "execution_count": 28,
     "metadata": {},
     "output_type": "execute_result"
    }
   ],
   "source": [
    "translation = translation_tokenizer.batch_decode(\n",
    "    generated_tokens, skip_special_tokens=True\n",
    ")\n",
    "translation"
   ]
  },
  {
   "cell_type": "markdown",
   "metadata": {},
   "source": [
    "### And Finally: Summarisation\n",
    "\n",
    "Lets use the facebook model"
   ]
  },
  {
   "cell_type": "code",
   "execution_count": 22,
   "metadata": {},
   "outputs": [
    {
     "name": "stderr",
     "output_type": "stream",
     "text": [
      "/Users/edable-heath/Documents/ARC-SPICE/.venv/lib/python3.11/site-packages/transformers/tokenization_utils_base.py:1601: FutureWarning: `clean_up_tokenization_spaces` was not set. It will be set to `True` by default. This behavior will be depracted in transformers v4.45, and will be then set to `False` by default. For more details check this issue: https://github.com/huggingface/transformers/issues/31884\n",
      "  warnings.warn(\n",
      "Hardware accelerator e.g. GPU is available in the environment, but no `device` argument is passed to the `Pipeline` object. Model will be on CPU.\n"
     ]
    }
   ],
   "source": [
    "from transformers import pipeline\n",
    "\n",
    "summarizer = pipeline(\"summarization\", model=\"facebook/bart-large-cnn\")"
   ]
  },
  {
   "cell_type": "code",
   "execution_count": 23,
   "metadata": {},
   "outputs": [
    {
     "data": {
      "text/plain": [
       "[{'summary_text': 'National Union of Rail, Maritime and Transport Workers (RMT) voted overwhelmingly to support the pay offers that will result in increases of more than 4 percent over the next two years. RMT held more than 30 days of industrial action since June 2022 over a previous pay dispute with Network Rail and rail operators.'}]"
      ]
     },
     "execution_count": 23,
     "metadata": {},
     "output_type": "execute_result"
    }
   ],
   "source": [
    "article = \"\"\"\n",
    "Rail workers have voted to accept pay offers by train companies and Network Rail, reducing the prospect of a repeat of the national strikes that have caused misery for passengers over the last two years.\n",
    "\n",
    "Members of the National Union of Rail, Maritime and Transport Workers (RMT) voted overwhelmingly to support the pay offers that will result in increases of more than 4 percent over the next two years.\n",
    "\n",
    "The RMT said the ballot result meant that the long-running national dispute was now over and the outcome reflected collective efforts to defend jobs and pay conditions from the attacks of private contractors and the previous Conservative government.\n",
    "\n",
    "LNER trains at King's Cross station in London\n",
    "\n",
    "The RMT held more than 30 days of industrial action since June 2022 over a previous pay dispute with Network Rail and rail operators.\n",
    "\n",
    "A deal was agreed in March last year with Network Rail, while its deal with operators was concluded in November last year.\n",
    "\n",
    "The latest pay deal will lead to union members at Network Rail, who are largely maintenance staff and signallers, receiving a 4.5 percent increase this year. Almost 89 percent of those members who voted were favour of the deal.\n",
    "\n",
    "The agreement with operators, which covers train crew and ticket office staff, will lead to a 4.75 percent backdated increase on last year’s pay, with a 4.5 percent rise for the current financial year. The ballot featured 99 percent of voting members voting in favour of the deal.\n",
    "\n",
    "In a statement, the RMT said: “We thank our members for their efforts during this long but successful campaign.\n",
    "\n",
    "“Their resolve has been essential in navigating the challenges posed during negotiations and in particular the previous Tory government’s refusal to negotiate in good faith, alongside relentless attacks by sections of the media and the employers.\n",
    "\n",
    "“RMT remains focused and committed to supporting public ownership as a path to building a stronger future for the rail industry for both workers and passengers.”\n",
    "\n",
    "The transport secretary, Louise Haigh, said: “This is a necessary step towards fixing our railways and getting the country moving.\n",
    "\n",
    "\n",
    "“It will ensure a more reliable service by helping to protect passengers from national strikes, and crucially, it clears the way for vital reform and modernising working practices to ensure a better performing railway for everyone.\n",
    "\n",
    "“This Labour government won’t make the same mistake as the Conservatives who deliberately prolonged rail strikes and cost the economy more than £1bn.”\n",
    "\n",
    "Last week, train drivers who are members of the Aslef union voted to back a pay deal.\n",
    "\n",
    "The decision came after drivers had taken 18 days of strike action since July 2022, resulting in a near-complete shutdown of English lines and some cross-border services, as well as a run of overtime bans that caused widespread disruption.\n",
    "\n",
    "\n",
    "\"\"\"\n",
    "summarizer(\n",
    "    article,\n",
    "    # max_length=len(article.split()) // 2,\n",
    "    # min_length=len(article.split()) // 5,\n",
    "    # do_sample=False,\n",
    ")"
   ]
  },
  {
   "cell_type": "code",
   "execution_count": 36,
   "metadata": {},
   "outputs": [
    {
     "data": {
      "text/plain": [
       "95"
      ]
     },
     "execution_count": 36,
     "metadata": {},
     "output_type": "execute_result"
    }
   ],
   "source": [
    "len(article.split())"
   ]
  },
  {
   "cell_type": "markdown",
   "metadata": {},
   "source": [
    "Summariser seems to work, but only for sufficiently long examples, which makes sense. Otherwise it just picks up the first part of the text. Need to find some french recordings on sufficient length."
   ]
  },
  {
   "cell_type": "markdown",
   "metadata": {},
   "source": [
    "## Can this be tied together in one pipeline structure?\n",
    "\n",
    "This will make generalisation easier."
   ]
  },
  {
   "cell_type": "code",
   "execution_count": 31,
   "metadata": {},
   "outputs": [
    {
     "name": "stderr",
     "output_type": "stream",
     "text": [
      "Hardware accelerator e.g. GPU is available in the environment, but no `device` argument is passed to the `Pipeline` object. Model will be on CPU.\n"
     ]
    },
    {
     "name": "stdout",
     "output_type": "stream",
     "text": [
      "The transcription is: \n",
      "  Pendant le second siècle, je fis serment d'ouvrir tous les trésors de la terre, à qui compte-me mettre en liberté. Mais je ne fus pas plus heureux. Dans le troisième, je promis de faire puissant mon arc, mon libérateur, d'être toujours près de lui en esprit.\n"
     ]
    },
    {
     "name": "stderr",
     "output_type": "stream",
     "text": [
      "Hardware accelerator e.g. GPU is available in the environment, but no `device` argument is passed to the `Pipeline` object. Model will be on CPU.\n"
     ]
    },
    {
     "name": "stdout",
     "output_type": "stream",
     "text": [
      "The translation is: \n",
      " en the second century, I made a vow to open all the treasures of the earth, to whom I intend to release. But I was no happier. In the third, I promised to make my bow, my liberal, powerful, to be always close to him in mind.\n"
     ]
    },
    {
     "name": "stderr",
     "output_type": "stream",
     "text": [
      "Hardware accelerator e.g. GPU is available in the environment, but no `device` argument is passed to the `Pipeline` object. Model will be on CPU.\n",
      "Your max_length is set to 142, but your input_length is only 58. Since this is a summarization task, where outputs shorter than the input are typically wanted, you might consider decreasing max_length manually, e.g. summarizer('...', max_length=29)\n"
     ]
    },
    {
     "name": "stdout",
     "output_type": "stream",
     "text": [
      "The summary is: \n",
      " In the second century, I made a vow to open all the treasures of the earth, to whom I intend to release. But I was no happier. In the third, I promised to make my bow, my liberal, powerful, to be always close to him in mind.\n"
     ]
    }
   ],
   "source": [
    "from transformers import pipeline\n",
    "\n",
    "# transcription\n",
    "asr = pipeline(\"automatic-speech-recognition\", model=\"openai/whisper-small\")\n",
    "transcription = asr(input_speech[\"array\"])\n",
    "print(f\"The transcription is: \\n {transcription['text']}\")\n",
    "\n",
    "# translation\n",
    "trltr = pipeline(\n",
    "    \"translation_fr_to_en\", model=\"facebook/mbart-large-50-many-to-many-mmt\"\n",
    ")\n",
    "translation = trltr(transcription[\"text\"])\n",
    "print(f\"The translation is: \\n {translation[0]['translation_text']}\")\n",
    "\n",
    "# summarisation\n",
    "summarizer = pipeline(\"summarization\", model=\"facebook/bart-large-cnn\")\n",
    "summary = summarizer(translation[0][\"translation_text\"])\n",
    "print(f\"The summary is: \\n {summary[0]['summary_text']}\")"
   ]
  },
  {
   "cell_type": "markdown",
   "metadata": {},
   "source": [
    "## Putting it all together into a single script"
   ]
  },
  {
   "cell_type": "code",
   "execution_count": 39,
   "metadata": {},
   "outputs": [],
   "source": [
    "from transformers import (\n",
    "    pipeline,\n",
    ")\n",
    "\n",
    "\n",
    "class TTSpipeline:\n",
    "    \"\"\"\n",
    "    Class for the transcription, translation, summarisation pipeline.\n",
    "\n",
    "    pars:\n",
    "        - {'top_level_task': {'specific_task': str, 'model_name': str}}\n",
    "    \"\"\"\n",
    "\n",
    "    def __init__(self, pars) -> None:\n",
    "        self.pars = pars\n",
    "        self.transcriber = pipeline(\n",
    "            pars[\"transcriber\"][\"specific_task\"], pars[\"transcriber\"][\"model\"]\n",
    "        )\n",
    "        self.translator = pipeline(\n",
    "            pars[\"translator\"][\"specific_task\"], pars[\"translator\"][\"model\"]\n",
    "        )\n",
    "        self.summariser = pipeline(\n",
    "            pars[\"summariser\"][\"specific_task\"], pars[\"summariser\"][\"model\"]\n",
    "        )\n",
    "        self.results = {}\n",
    "\n",
    "    def print_pipeline(self):\n",
    "        \"\"\"Print the models in the pipeline\"\"\"\n",
    "        print(f\"Transcriber model: {self.pars['transcriber']['model']}\")\n",
    "        print(f\"Translator model: {self.pars['translator']['model']}\")\n",
    "        print(f\"Summariser model: {self.pars['summariser']['model']}\")\n",
    "\n",
    "    def run_pipeline(self, x):\n",
    "        \"\"\"Run the pipeline on an input x\"\"\"\n",
    "        transcription = self.transcriber(x)\n",
    "        self.results[\"transcription\"] = transcription[\"text\"]\n",
    "        translation = self.translator(transcription[\"text\"])\n",
    "        self.results[\"translation\"] = translation[0][\"translation_text\"]\n",
    "        summarisation = self.summariser(translation[0][\"translation_text\"])\n",
    "        self.results[\"summarisation\"] = summarisation[0][\"summary_text\"]\n",
    "\n",
    "    def print_results(self):\n",
    "        \"\"\"Print the results for quick scanning\"\"\"\n",
    "        for key, val in self.results.items():\n",
    "            print(f\"{key} result is: \\n {val}\")"
   ]
  },
  {
   "cell_type": "code",
   "execution_count": 40,
   "metadata": {},
   "outputs": [
    {
     "name": "stderr",
     "output_type": "stream",
     "text": [
      "Hardware accelerator e.g. GPU is available in the environment, but no `device` argument is passed to the `Pipeline` object. Model will be on CPU.\n",
      "/Users/edable-heath/Documents/ARC-SPICE/.venv/lib/python3.11/site-packages/transformers/tokenization_utils_base.py:1601: FutureWarning: `clean_up_tokenization_spaces` was not set. It will be set to `True` by default. This behavior will be depracted in transformers v4.45, and will be then set to `False` by default. For more details check this issue: https://github.com/huggingface/transformers/issues/31884\n",
      "  warnings.warn(\n",
      "Hardware accelerator e.g. GPU is available in the environment, but no `device` argument is passed to the `Pipeline` object. Model will be on CPU.\n",
      "Hardware accelerator e.g. GPU is available in the environment, but no `device` argument is passed to the `Pipeline` object. Model will be on CPU.\n"
     ]
    },
    {
     "name": "stdout",
     "output_type": "stream",
     "text": [
      "Transcriber model: openai/whisper-small\n",
      "Translator model: facebook/mbart-large-50-many-to-many-mmt\n",
      "Summariser model: facebook/bart-large-cnn\n"
     ]
    }
   ],
   "source": [
    "TTS_pars = {\n",
    "    \"transcriber\": {\n",
    "        \"specific_task\": \"automatic-speech-recognition\",\n",
    "        \"model\": \"openai/whisper-small\",\n",
    "    },\n",
    "    \"translator\": {\n",
    "        \"specific_task\": \"translation_fr_to_en\",\n",
    "        \"model\": \"facebook/mbart-large-50-many-to-many-mmt\",\n",
    "    },\n",
    "    \"summariser\": {\n",
    "        \"specific_task\": \"summarization\",\n",
    "        \"model\": \"facebook/bart-large-cnn\",\n",
    "    },\n",
    "}\n",
    "\n",
    "TTS_pipeline = TTSpipeline(TTS_pars)\n",
    "\n",
    "TTS_pipeline.print_pipeline()"
   ]
  },
  {
   "cell_type": "code",
   "execution_count": 41,
   "metadata": {},
   "outputs": [
    {
     "data": {
      "application/vnd.jupyter.widget-view+json": {
       "model_id": "de011c6e05be44708ba428bd65ff4aff",
       "version_major": 2,
       "version_minor": 0
      },
      "text/plain": [
       "Resolving data files:   0%|          | 0/48 [00:00<?, ?it/s]"
      ]
     },
     "metadata": {},
     "output_type": "display_data"
    },
    {
     "data": {
      "application/vnd.jupyter.widget-view+json": {
       "model_id": "497184d7407b48e9a3916c3f0c33ee3d",
       "version_major": 2,
       "version_minor": 0
      },
      "text/plain": [
       "Resolving data files:   0%|          | 0/34 [00:00<?, ?it/s]"
      ]
     },
     "metadata": {},
     "output_type": "display_data"
    }
   ],
   "source": [
    "# lets give it some data\n",
    "from datasets import Audio, load_dataset\n",
    "\n",
    "ds = load_dataset(\n",
    "    \"facebook/multilingual_librispeech\", \"french\", split=\"test\", streaming=True\n",
    ")\n",
    "ds = ds.cast_column(\"audio\", Audio(sampling_rate=16_000))\n",
    "input_speech = next(iter(ds))[\"audio\"]"
   ]
  },
  {
   "cell_type": "code",
   "execution_count": 42,
   "metadata": {},
   "outputs": [
    {
     "name": "stderr",
     "output_type": "stream",
     "text": [
      "/Users/edable-heath/Documents/ARC-SPICE/.venv/lib/python3.11/site-packages/transformers/models/whisper/generation_whisper.py:496: FutureWarning: The input name `inputs` is deprecated. Please make sure to use `input_features` instead.\n",
      "  warnings.warn(\n",
      "Your max_length is set to 142, but your input_length is only 58. Since this is a summarization task, where outputs shorter than the input are typically wanted, you might consider decreasing max_length manually, e.g. summarizer('...', max_length=29)\n"
     ]
    }
   ],
   "source": [
    "TTS_pipeline.run_pipeline(input_speech[\"array\"])"
   ]
  },
  {
   "cell_type": "code",
   "execution_count": 43,
   "metadata": {},
   "outputs": [
    {
     "name": "stdout",
     "output_type": "stream",
     "text": [
      "transcription result is: \n",
      "  Pendant le second siècle, je fis serment d'ouvrir tous les trésors de la terre, à qui compte-me mettre en liberté. Mais je ne fus pas plus heureux. Dans le troisième, je promis de faire puissant mon arc, mon libérateur, d'être toujours près de lui en esprit.\n",
      "translation result is: \n",
      " en the second century, I made a vow to open all the treasures of the earth, to whom I intend to release. But I was no happier. In the third, I promised to make my bow, my liberal, powerful, to be always close to him in mind.\n",
      "summarisation result is: \n",
      " In the second century, I made a vow to open all the treasures of the earth, to whom I intend to release. But I was no happier. In the third, I promised to make my bow, my liberal, powerful, to be always close to him in mind.\n"
     ]
    }
   ],
   "source": [
    "TTS_pipeline.print_results()"
   ]
  },
  {
   "cell_type": "code",
   "execution_count": null,
   "metadata": {},
   "outputs": [],
   "source": []
  }
 ],
 "metadata": {
  "kernelspec": {
   "display_name": ".venv",
   "language": "python",
   "name": "python3"
  },
  "language_info": {
   "codemirror_mode": {
    "name": "ipython",
    "version": 3
   },
   "file_extension": ".py",
   "mimetype": "text/x-python",
   "name": "python",
   "nbconvert_exporter": "python",
   "pygments_lexer": "ipython3",
   "version": "3.11.4"
  }
 },
 "nbformat": 4,
 "nbformat_minor": 2
}
