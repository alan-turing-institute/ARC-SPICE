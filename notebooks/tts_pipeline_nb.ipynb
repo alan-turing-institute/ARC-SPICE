{
 "cells": [
  {
   "cell_type": "markdown",
   "metadata": {},
   "source": [
    "# First pass at developing the TTS pipeline\n",
    "\n",
    "Using off the shelf hugging-face models to build the transcription -> translation -> summarisation pipeline."
   ]
  },
  {
   "cell_type": "markdown",
   "metadata": {},
   "source": []
  }
 ],
 "metadata": {
  "language_info": {
   "name": "python"
  }
 },
 "nbformat": 4,
 "nbformat_minor": 2
}
